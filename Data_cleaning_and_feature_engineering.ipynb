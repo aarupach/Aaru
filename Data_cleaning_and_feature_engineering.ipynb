{
  "nbformat": 4,
  "nbformat_minor": 0,
  "metadata": {
    "colab": {
      "provenance": [],
      "authorship_tag": "ABX9TyOxeYKTW64yHvIZRxTAn7l2",
      "include_colab_link": true
    },
    "kernelspec": {
      "name": "python3",
      "display_name": "Python 3"
    },
    "language_info": {
      "name": "python"
    }
  },
  "cells": [
    {
      "cell_type": "markdown",
      "metadata": {
        "id": "view-in-github",
        "colab_type": "text"
      },
      "source": [
        "<a href=\"https://colab.research.google.com/github/aarupach/Aaru/blob/main/Data_cleaning_and_feature_engineering.ipynb\" target=\"_parent\"><img src=\"https://colab.research.google.com/assets/colab-badge.svg\" alt=\"Open In Colab\"/></a>"
      ]
    },
    {
      "cell_type": "code",
      "source": [
        "import numpy as np\n",
        "import pandas as pd\n",
        "import matplotlib.pyplot as plt\n",
        "import seaborn as sns\n",
        "from sklearn.preprocessing import LabelEncoder, StandardScaler"
      ],
      "metadata": {
        "id": "_BVDzuOjQ1uV"
      },
      "execution_count": null,
      "outputs": []
    },
    {
      "cell_type": "code",
      "source": [
        "# Set style for better visualizations\n",
        "sns.set_style(\"whitegrid\")\n",
        "plt.rcParams['figure.figsize'] = (14, 8)"
      ],
      "metadata": {
        "id": "UXFDRJ6QRJ30"
      },
      "execution_count": null,
      "outputs": []
    },
    {
      "cell_type": "code",
      "source": [
        "print(\"=\"*80)\n",
        "print(\"TASK 2: TITANIC DATASET - DATA CLEANING & FEATURE ENGINEERING\")\n",
        "print(\"=\"*80)"
      ],
      "metadata": {
        "colab": {
          "base_uri": "https://localhost:8080/"
        },
        "id": "EtxHqrfZROwZ",
        "outputId": "7c5c9c22-13ee-4f1e-deb6-4044cd320751"
      },
      "execution_count": null,
      "outputs": [
        {
          "output_type": "stream",
          "name": "stdout",
          "text": [
            "================================================================================\n",
            "TASK 2: TITANIC DATASET - DATA CLEANING & FEATURE ENGINEERING\n",
            "================================================================================\n"
          ]
        }
      ]
    },
    {
      "cell_type": "code",
      "source": [
        "print(\"\\n\" + \"=\"*80)\n",
        "print(\"STEP 1: LOADING THE TITANIC DATASET\")\n",
        "print(\"=\"*80)"
      ],
      "metadata": {
        "colab": {
          "base_uri": "https://localhost:8080/"
        },
        "id": "kjHr80bjRTlC",
        "outputId": "e8a2b45e-b042-4ccd-d56e-d6f4e0fc3a93"
      },
      "execution_count": null,
      "outputs": [
        {
          "output_type": "stream",
          "name": "stdout",
          "text": [
            "\n",
            "================================================================================\n",
            "STEP 1: LOADING THE TITANIC DATASET\n",
            "================================================================================\n"
          ]
        }
      ]
    },
    {
      "cell_type": "code",
      "source": [
        "url = \"https://raw.githubusercontent.com/datasciencedojo/datasets/master/titanic.csv\"\n",
        "df = pd.read_csv(url)"
      ],
      "metadata": {
        "id": "69eDGTcERcHJ"
      },
      "execution_count": null,
      "outputs": []
    },
    {
      "cell_type": "code",
      "source": [
        "print(f\"\\nDataset Shape: {df.shape}\")\n",
        "print(f\"Total Rows: {df.shape[0]}\")\n",
        "print(f\"Total Columns: {df.shape[1]}\")"
      ],
      "metadata": {
        "colab": {
          "base_uri": "https://localhost:8080/"
        },
        "id": "H4wS-Y3cSbiF",
        "outputId": "3dc6fd0e-ad0c-4387-a429-e221134c3047"
      },
      "execution_count": null,
      "outputs": [
        {
          "output_type": "stream",
          "name": "stdout",
          "text": [
            "\n",
            "Dataset Shape: (891, 12)\n",
            "Total Rows: 891\n",
            "Total Columns: 12\n"
          ]
        }
      ]
    },
    {
      "cell_type": "code",
      "source": [
        "# Display first few rows\n",
        "print(\"\\n\" + \"-\"*80)\n",
        "print(\"First 5 Rows of Dataset:\")\n",
        "print(\"-\"*80)\n",
        "print(df.head())"
      ],
      "metadata": {
        "colab": {
          "base_uri": "https://localhost:8080/"
        },
        "id": "I3ZQ7fzlSxAI",
        "outputId": "f5bfb951-8524-405f-bea8-650795da34ed"
      },
      "execution_count": null,
      "outputs": [
        {
          "output_type": "stream",
          "name": "stdout",
          "text": [
            "\n",
            "--------------------------------------------------------------------------------\n",
            "First 5 Rows of Dataset:\n",
            "--------------------------------------------------------------------------------\n",
            "   PassengerId  Survived  Pclass  \\\n",
            "0            1         0       3   \n",
            "1            2         1       1   \n",
            "2            3         1       3   \n",
            "3            4         1       1   \n",
            "4            5         0       3   \n",
            "\n",
            "                                                Name     Sex   Age  SibSp  \\\n",
            "0                            Braund, Mr. Owen Harris    male  22.0      1   \n",
            "1  Cumings, Mrs. John Bradley (Florence Briggs Th...  female  38.0      1   \n",
            "2                             Heikkinen, Miss. Laina  female  26.0      0   \n",
            "3       Futrelle, Mrs. Jacques Heath (Lily May Peel)  female  35.0      1   \n",
            "4                           Allen, Mr. William Henry    male  35.0      0   \n",
            "\n",
            "   Parch            Ticket     Fare Cabin Embarked  \n",
            "0      0         A/5 21171   7.2500   NaN        S  \n",
            "1      0          PC 17599  71.2833   C85        C  \n",
            "2      0  STON/O2. 3101282   7.9250   NaN        S  \n",
            "3      0            113803  53.1000  C123        S  \n",
            "4      0            373450   8.0500   NaN        S  \n"
          ]
        }
      ]
    },
    {
      "cell_type": "code",
      "source": [
        "# Display column information\n",
        "print(\"\\n\" + \"-\"*80)\n",
        "print(\"Dataset Columns:\")\n",
        "print(\"-\"*80)\n",
        "print(f\"Columns: {list(df.columns)}\")"
      ],
      "metadata": {
        "colab": {
          "base_uri": "https://localhost:8080/"
        },
        "id": "ncTxwKQcS2jg",
        "outputId": "22b982a8-71ff-447b-96f4-a27d3815687c"
      },
      "execution_count": null,
      "outputs": [
        {
          "output_type": "stream",
          "name": "stdout",
          "text": [
            "\n",
            "--------------------------------------------------------------------------------\n",
            "Dataset Columns:\n",
            "--------------------------------------------------------------------------------\n",
            "Columns: ['PassengerId', 'Survived', 'Pclass', 'Name', 'Sex', 'Age', 'SibSp', 'Parch', 'Ticket', 'Fare', 'Cabin', 'Embarked']\n"
          ]
        }
      ]
    },
    {
      "cell_type": "code",
      "source": [
        "# Display data types and info\n",
        "print(\"\\n\" + \"-\"*80)\n",
        "print(\"Dataset Information:\")\n",
        "print(\"-\"*80)\n",
        "df.info()"
      ],
      "metadata": {
        "colab": {
          "base_uri": "https://localhost:8080/"
        },
        "id": "WGsJPE_ES6_H",
        "outputId": "414a8c79-a0d1-45a2-d703-875946855560"
      },
      "execution_count": null,
      "outputs": [
        {
          "output_type": "stream",
          "name": "stdout",
          "text": [
            "\n",
            "--------------------------------------------------------------------------------\n",
            "Dataset Information:\n",
            "--------------------------------------------------------------------------------\n",
            "<class 'pandas.core.frame.DataFrame'>\n",
            "RangeIndex: 891 entries, 0 to 890\n",
            "Data columns (total 12 columns):\n",
            " #   Column       Non-Null Count  Dtype  \n",
            "---  ------       --------------  -----  \n",
            " 0   PassengerId  891 non-null    int64  \n",
            " 1   Survived     891 non-null    int64  \n",
            " 2   Pclass       891 non-null    int64  \n",
            " 3   Name         891 non-null    object \n",
            " 4   Sex          891 non-null    object \n",
            " 5   Age          714 non-null    float64\n",
            " 6   SibSp        891 non-null    int64  \n",
            " 7   Parch        891 non-null    int64  \n",
            " 8   Ticket       891 non-null    object \n",
            " 9   Fare         891 non-null    float64\n",
            " 10  Cabin        204 non-null    object \n",
            " 11  Embarked     889 non-null    object \n",
            "dtypes: float64(2), int64(5), object(5)\n",
            "memory usage: 83.7+ KB\n"
          ]
        }
      ]
    },
    {
      "cell_type": "code",
      "source": [
        "# Statistical summary\n",
        "print(\"\\n\" + \"-\"*80)\n",
        "print(\"Statistical Summary:\")\n",
        "print(\"-\"*80)\n",
        "print(df.describe())"
      ],
      "metadata": {
        "colab": {
          "base_uri": "https://localhost:8080/"
        },
        "id": "H5msBJz2TA4E",
        "outputId": "d89139a9-8b71-4130-ae1d-2a78e6b7cee0"
      },
      "execution_count": null,
      "outputs": [
        {
          "output_type": "stream",
          "name": "stdout",
          "text": [
            "\n",
            "--------------------------------------------------------------------------------\n",
            "Statistical Summary:\n",
            "--------------------------------------------------------------------------------\n",
            "       PassengerId    Survived      Pclass         Age       SibSp  \\\n",
            "count   891.000000  891.000000  891.000000  714.000000  891.000000   \n",
            "mean    446.000000    0.383838    2.308642   29.699118    0.523008   \n",
            "std     257.353842    0.486592    0.836071   14.526497    1.102743   \n",
            "min       1.000000    0.000000    1.000000    0.420000    0.000000   \n",
            "25%     223.500000    0.000000    2.000000   20.125000    0.000000   \n",
            "50%     446.000000    0.000000    3.000000   28.000000    0.000000   \n",
            "75%     668.500000    1.000000    3.000000   38.000000    1.000000   \n",
            "max     891.000000    1.000000    3.000000   80.000000    8.000000   \n",
            "\n",
            "            Parch        Fare  \n",
            "count  891.000000  891.000000  \n",
            "mean     0.381594   32.204208  \n",
            "std      0.806057   49.693429  \n",
            "min      0.000000    0.000000  \n",
            "25%      0.000000    7.910400  \n",
            "50%      0.000000   14.454200  \n",
            "75%      0.000000   31.000000  \n",
            "max      6.000000  512.329200  \n"
          ]
        }
      ]
    },
    {
      "cell_type": "code",
      "source": [
        "# Check data types\n",
        "print(\"\\n\" + \"-\"*80)\n",
        "print(\"Data Types:\")\n",
        "print(\"-\"*80)\n",
        "print(df.dtypes)"
      ],
      "metadata": {
        "colab": {
          "base_uri": "https://localhost:8080/"
        },
        "id": "aCErOX6FTL2l",
        "outputId": "4500ab14-6c0e-4e1f-b9eb-54d2db4558a3"
      },
      "execution_count": null,
      "outputs": [
        {
          "output_type": "stream",
          "name": "stdout",
          "text": [
            "\n",
            "--------------------------------------------------------------------------------\n",
            "Data Types:\n",
            "--------------------------------------------------------------------------------\n",
            "PassengerId      int64\n",
            "Survived         int64\n",
            "Pclass           int64\n",
            "Name            object\n",
            "Sex             object\n",
            "Age            float64\n",
            "SibSp            int64\n",
            "Parch            int64\n",
            "Ticket          object\n",
            "Fare           float64\n",
            "Cabin           object\n",
            "Embarked        object\n",
            "dtype: object\n"
          ]
        }
      ]
    },
    {
      "cell_type": "code",
      "source": [
        "print(\"\\n\" + \"=\"*80)\n",
        "print(\"STEP 2: IDENTIFYING MISSING OR INCONSISTENT DATA\")\n",
        "print(\"=\"*80)"
      ],
      "metadata": {
        "colab": {
          "base_uri": "https://localhost:8080/"
        },
        "id": "C6wuD2ysTVzi",
        "outputId": "4d7051c7-449d-4381-c17c-32df3c94dea7"
      },
      "execution_count": null,
      "outputs": [
        {
          "output_type": "stream",
          "name": "stdout",
          "text": [
            "\n",
            "================================================================================\n",
            "STEP 2: IDENTIFYING MISSING OR INCONSISTENT DATA\n",
            "================================================================================\n"
          ]
        }
      ]
    },
    {
      "cell_type": "code",
      "source": [
        "# Missing values analysis\n",
        "print(\"\\n\" + \"-\"*80)\n",
        "print(\"Missing Values Analysis:\")\n",
        "print(\"-\"*80)\n"
      ],
      "metadata": {
        "colab": {
          "base_uri": "https://localhost:8080/"
        },
        "id": "l-O0vok9TcGN",
        "outputId": "779f4cd6-93aa-4239-cb1b-4d80246372d8"
      },
      "execution_count": null,
      "outputs": [
        {
          "output_type": "stream",
          "name": "stdout",
          "text": [
            "\n",
            "--------------------------------------------------------------------------------\n",
            "Missing Values Analysis:\n",
            "--------------------------------------------------------------------------------\n"
          ]
        }
      ]
    },
    {
      "cell_type": "code",
      "source": [
        "missing_values = df.isnull().sum()\n",
        "missing_percentage = (missing_values / len(df)) * 100\n",
        "\n",
        "missing_df = pd.DataFrame({\n",
        "    'Column': missing_values.index,\n",
        "    'Missing_Count': missing_values.values,\n",
        "    'Missing_Percentage': missing_percentage.values\n",
        "})"
      ],
      "metadata": {
        "id": "jivK5L8_T33h"
      },
      "execution_count": null,
      "outputs": []
    },
    {
      "cell_type": "code",
      "source": [
        "missing_df = missing_df[missing_df['Missing_Count'] > 0].sort_values('Missing_Count', ascending=False)"
      ],
      "metadata": {
        "id": "S599uGEOUA3E"
      },
      "execution_count": null,
      "outputs": []
    },
    {
      "cell_type": "code",
      "source": [
        "if len(missing_df) > 0:\n",
        "    print(missing_df.to_string(index=False))\n",
        "    print(f\"\\nTotal missing values: {missing_values.sum()}\")\n",
        "else:\n",
        "    print(\"No missing values found!\")"
      ],
      "metadata": {
        "colab": {
          "base_uri": "https://localhost:8080/"
        },
        "id": "bG-o6BWXUFzt",
        "outputId": "ec32e228-67c1-4aa9-979c-0ae6452edb49"
      },
      "execution_count": null,
      "outputs": [
        {
          "output_type": "stream",
          "name": "stdout",
          "text": [
            "  Column  Missing_Count  Missing_Percentage\n",
            "   Cabin            687           77.104377\n",
            "     Age            177           19.865320\n",
            "Embarked              2            0.224467\n",
            "\n",
            "Total missing values: 866\n"
          ]
        }
      ]
    },
    {
      "cell_type": "code",
      "source": [
        "# Check for duplicates\n",
        "print(\"\\n\" + \"-\"*80)\n",
        "print(\"Duplicate Records Check:\")\n",
        "print(\"-\"*80)\n",
        "duplicates = df.duplicated().sum()\n",
        "print(f\"Number of duplicate rows: {duplicates}\")\n",
        "if duplicates > 0:\n",
        "    print(\"⚠️ Duplicates found and will be removed during cleaning\")\n",
        "else:\n",
        "    print(\"✓ No duplicate rows found\")\n"
      ],
      "metadata": {
        "colab": {
          "base_uri": "https://localhost:8080/"
        },
        "id": "ACm8hssfUKrM",
        "outputId": "ab11ea63-d0b2-4949-d2ee-fbdf70a8cc54"
      },
      "execution_count": null,
      "outputs": [
        {
          "output_type": "stream",
          "name": "stdout",
          "text": [
            "\n",
            "--------------------------------------------------------------------------------\n",
            "Duplicate Records Check:\n",
            "--------------------------------------------------------------------------------\n",
            "Number of duplicate rows: 0\n",
            "✓ No duplicate rows found\n"
          ]
        }
      ]
    },
    {
      "cell_type": "code",
      "source": [
        "# Visualize missing data\n",
        "print(\"\\n➤ Creating missing data visualizations...\")\n",
        "\n",
        "fig, axes = plt.subplots(1, 2, figsize=(16, 6))\n"
      ],
      "metadata": {
        "colab": {
          "base_uri": "https://localhost:8080/",
          "height": 419
        },
        "id": "KAc97FskUSKc",
        "outputId": "ac4e94e7-895e-41f1-9a68-31544636c6d1"
      },
      "execution_count": null,
      "outputs": [
        {
          "output_type": "stream",
          "name": "stdout",
          "text": [
            "\n",
            "➤ Creating missing data visualizations...\n"
          ]
        },
        {
          "output_type": "display_data",
          "data": {
            "text/plain": [
              "<Figure size 1600x600 with 2 Axes>"
            ],
            "image/png": "[encoded data removed]"
          },
          "metadata": {}
        }
      ]
    },
    {
      "cell_type": "code",
      "source": [
        "# Plot 1: Missing values bar chart\n",
        "ax1 = axes[0]\n",
        "if len(missing_df) > 0:\n",
        "    missing_df.plot(x='Column', y='Missing_Count', kind='barh', ax=ax1,\n",
        "                    legend=False, color='coral', edgecolor='black')\n",
        "    ax1.set_xlabel('Missing Count', fontsize=12)\n",
        "    ax1.set_ylabel('Column', fontsize=12)\n",
        "    ax1.set_title('Missing Values by Column', fontsize=14, fontweight='bold')\n",
        "    ax1.grid(True, alpha=0.3, axis='x')\n",
        "else:\n",
        "    ax1.text(0.5, 0.5, 'No Missing Values', ha='center', va='center', fontsize=16)\n",
        "    ax1.set_title('Missing Values by Column', fontsize=14, fontweight='bold')"
      ],
      "metadata": {
        "id": "tYpoeq78UafB"
      },
      "execution_count": null,
      "outputs": []
    },
    {
      "cell_type": "code",
      "source": [
        "# Plot 2: Missing values heatmap\n",
        "ax2 = axes[1]\n",
        "if missing_values.sum() > 0:\n",
        "    sns.heatmap(df.isnull(), cbar=True, yticklabels=False, cmap='viridis', ax=ax2)\n",
        "    ax2.set_title('Missing Values Heatmap', fontsize=14, fontweight='bold')\n",
        "    ax2.set_xlabel('Columns', fontsize=12)\n",
        "else:\n",
        "    ax2.text(0.5, 0.5, 'No Missing Values', ha='center', va='center', fontsize=16)\n",
        "    ax2.set_title('Missing Values Heatmap', fontsize=14, fontweight='bold')\n",
        "\n",
        "plt.tight_layout()\n",
        "plt.savefig('task2_missing_values.png', dpi=300, bbox_inches='tight')\n",
        "print(\"✓ Missing data visualization saved as 'task2_missing_values.png'\")\n",
        "plt.show()"
      ],
      "metadata": {
        "colab": {
          "base_uri": "https://localhost:8080/",
          "height": 52
        },
        "id": "VxzVF2IFUlcO",
        "outputId": "63d8ac35-aa34-4693-d9c5-634bd753f70b"
      },
      "execution_count": null,
      "outputs": [
        {
          "output_type": "stream",
          "name": "stdout",
          "text": [
            "✓ Missing data visualization saved as 'task2_missing_values.png'\n"
          ]
        },
        {
          "output_type": "display_data",
          "data": {
            "text/plain": [
              "<Figure size 1400x800 with 0 Axes>"
            ]
          },
          "metadata": {}
        }
      ]
    },
    {
      "cell_type": "code",
      "source": [
        "print(\"\\n\" + \"=\"*80)\n",
        "print(\"STEP 3: DATA CLEANING\")\n",
        "print(\"=\"*80)\n",
        "\n",
        "# Create a copy for cleaning\n",
        "df_cleaned = df.copy()\n",
        "print(f\"\\nOriginal dataset shape: {df.shape}\")"
      ],
      "metadata": {
        "colab": {
          "base_uri": "https://localhost:8080/"
        },
        "id": "yZaDesI-UrvB",
        "outputId": "33142525-b8de-4e03-b026-4e792eb731db"
      },
      "execution_count": null,
      "outputs": [
        {
          "output_type": "stream",
          "name": "stdout",
          "text": [
            "\n",
            "================================================================================\n",
            "STEP 3: DATA CLEANING\n",
            "================================================================================\n",
            "\n",
            "Original dataset shape: (891, 12)\n"
          ]
        }
      ]
    },
    {
      "cell_type": "code",
      "source": [
        "# Step 1: Handle missing values\n",
        "print(\"\\n\" + \"-\"*80)\n",
        "print(\"Handling Missing Values:\")\n",
        "print(\"-\"*80)"
      ],
      "metadata": {
        "colab": {
          "base_uri": "https://localhost:8080/"
        },
        "id": "e46LGtjWUw2l",
        "outputId": "96f63180-1ed3-429c-b823-30b9881296cd"
      },
      "execution_count": null,
      "outputs": [
        {
          "output_type": "stream",
          "name": "stdout",
          "text": [
            "\n",
            "--------------------------------------------------------------------------------\n",
            "Handling Missing Values:\n",
            "--------------------------------------------------------------------------------\n"
          ]
        }
      ]
    },
    {
      "cell_type": "code",
      "source": [
        "# Drop 'deck' column (too many missing values)\n",
        "if 'deck' in df_cleaned.columns:\n",
        "    print(\"1. Dropping 'deck' column (77.5% missing values)\")\n",
        "    df_cleaned = df_cleaned.drop('deck', axis=1)"
      ],
      "metadata": {
        "id": "J47GMnwRW8ZT"
      },
      "execution_count": null,
      "outputs": []
    },
    {
      "cell_type": "code",
      "source": [
        "# Fill 'age' with median grouped by passenger class\n",
        "print(\"2. Filling 'Age' missing values with median by passenger class\")\n",
        "df_cleaned['Age'] = df_cleaned.groupby('Pclass')['Age'].transform(lambda x: x.fillna(x.median()))"
      ],
      "metadata": {
        "colab": {
          "base_uri": "https://localhost:8080/"
        },
        "id": "WNAKPwMDXAZC",
        "outputId": "c0e9c9f1-2d37-48e4-9e01-456d87fc8d79"
      },
      "execution_count": null,
      "outputs": [
        {
          "output_type": "stream",
          "name": "stdout",
          "text": [
            "2. Filling 'Age' missing values with median by passenger class\n"
          ]
        }
      ]
    },
    {
      "cell_type": "code",
      "source": [
        "# Fill 'Embarked' with mode\n",
        "print(\"3. Filling 'Embarked' missing values with mode\")\n",
        "if 'Embarked' in df_cleaned.columns and df_cleaned['Embarked'].isnull().sum() > 0:\n",
        "    embarked_missing_before = df_cleaned['Embarked'].isnull().sum()\n",
        "    df_cleaned['Embarked'].fillna(df_cleaned['Embarked'].mode()[0], inplace=True)\n",
        "    embarked_missing_after = df_cleaned['Embarked'].isnull().sum()\n",
        "    print(f\"   ✓ Embarked missing values: {embarked_missing_before} → {embarked_missing_after}\")\n",
        "else:\n",
        "    print(\"   ✓ No missing values in 'Embarked' column\")"
      ],
      "metadata": {
        "colab": {
          "base_uri": "https://localhost:8080/"
        },
        "id": "Hnc8vlVyXP4E",
        "outputId": "ac6e7578-aabe-4ddc-fab6-3099b0e55c20"
      },
      "execution_count": null,
      "outputs": [
        {
          "output_type": "stream",
          "name": "stdout",
          "text": [
            "3. Filling 'Embarked' missing values with mode\n",
            "   ✓ Embarked missing values: 2 → 0\n"
          ]
        },
        {
          "output_type": "stream",
          "name": "stderr",
          "text": [
            "/tmp/ipython-input-2690008836.py:5: FutureWarning: A value is trying to be set on a copy of a DataFrame or Series through chained assignment using an inplace method.\n",
            "The behavior will change in pandas 3.0. This inplace method will never work because the intermediate object on which we are setting values always behaves as a copy.\n",
            "\n",
            "For example, when doing 'df[col].method(value, inplace=True)', try using 'df.method({col: value}, inplace=True)' or df[col] = df[col].method(value) instead, to perform the operation inplace on the original object.\n",
            "\n",
            "\n",
            "  df_cleaned['Embarked'].fillna(df_cleaned['Embarked'].mode()[0], inplace=True)\n"
          ]
        }
      ]
    },
    {
      "cell_type": "code",
      "source": [
        "# Fill 'embark_town' with mode\n",
        "if 'embark_town' in df_cleaned.columns and df_cleaned['embark_town'].isnull().sum() > 0:\n",
        "    print(\"4. Filling 'embark_town' missing values with mode\")\n",
        "    df_cleaned['embark_town'].fillna(df_cleaned['embark_town'].mode()[0], inplace=True)\n"
      ],
      "metadata": {
        "id": "bl5x3Ux0Xec3"
      },
      "execution_count": null,
      "outputs": []
    },
    {
      "cell_type": "code",
      "source": [
        "# Remove duplicates\n",
        "print(\"\\n\" + \"-\"*80)\n",
        "print(\"Removing Duplicates:\")\n",
        "print(\"-\"*80)\n",
        "df_cleaned = df_cleaned.drop_duplicates()\n",
        "print(\"Duplicates removed (if any)\")"
      ],
      "metadata": {
        "colab": {
          "base_uri": "https://localhost:8080/"
        },
        "id": "X_DDynVBXjQQ",
        "outputId": "c1b968cc-0405-47a9-962a-e6881b37838a"
      },
      "execution_count": null,
      "outputs": [
        {
          "output_type": "stream",
          "name": "stdout",
          "text": [
            "\n",
            "--------------------------------------------------------------------------------\n",
            "Removing Duplicates:\n",
            "--------------------------------------------------------------------------------\n",
            "Duplicates removed (if any)\n"
          ]
        }
      ]
    },
    {
      "cell_type": "code",
      "source": [
        "print(\"\\n\" + \"-\"*80)\n",
        "print(\"Dropping Remaining Rows with Missing Values:\")\n",
        "print(\"-\"*80)\n",
        "rows_before = len(df_cleaned)\n",
        "df_cleaned = df_cleaned.dropna()\n",
        "rows_after = len(df_cleaned)\n",
        "print(f\"Rows: {rows_before} -> {rows_after} (removed {rows_before - rows_after} rows)\")"
      ],
      "metadata": {
        "colab": {
          "base_uri": "https://localhost:8080/"
        },
        "id": "t0G2K6I2Xook",
        "outputId": "ee9020c9-719c-4fd8-e194-613acbd6ad38"
      },
      "execution_count": null,
      "outputs": [
        {
          "output_type": "stream",
          "name": "stdout",
          "text": [
            "\n",
            "--------------------------------------------------------------------------------\n",
            "Dropping Remaining Rows with Missing Values:\n",
            "--------------------------------------------------------------------------------\n",
            "Rows: 891 -> 204 (removed 687 rows)\n"
          ]
        }
      ]
    },
    {
      "cell_type": "code",
      "source": [
        "# Correct data types\n",
        "print(\"\\n\" + \"-\"*80)\n",
        "print(\"Correcting Data Types:\")\n",
        "print(\"-\"*80)\n",
        "df_cleaned['Survived'] = df_cleaned['Survived'].astype(int)\n",
        "df_cleaned['Pclass'] = df_cleaned['Pclass'].astype(int)\n",
        "print(\"Data types corrected\")"
      ],
      "metadata": {
        "colab": {
          "base_uri": "https://localhost:8080/"
        },
        "id": "CbbYB9mQXtxK",
        "outputId": "b6dd70b4-4749-43d3-a277-e157ac146102"
      },
      "execution_count": null,
      "outputs": [
        {
          "output_type": "stream",
          "name": "stdout",
          "text": [
            "\n",
            "--------------------------------------------------------------------------------\n",
            "Correcting Data Types:\n",
            "--------------------------------------------------------------------------------\n",
            "Data types corrected\n"
          ]
        }
      ]
    },
    {
      "cell_type": "code",
      "source": [
        "print(f\"\\nData cleaning completed!\")\n",
        "print(f\"Final dataset shape: {df_cleaned.shape}\")\n",
        "print(f\"Missing values remaining: {df_cleaned.isnull().sum().sum()}\")"
      ],
      "metadata": {
        "colab": {
          "base_uri": "https://localhost:8080/"
        },
        "id": "S2dWppeOYRMp",
        "outputId": "39694631-5d65-4aac-f670-0ba67a68b620"
      },
      "execution_count": null,
      "outputs": [
        {
          "output_type": "stream",
          "name": "stdout",
          "text": [
            "\n",
            "Data cleaning completed!\n",
            "Final dataset shape: (204, 12)\n",
            "Missing values remaining: 0\n"
          ]
        }
      ]
    },
    {
      "cell_type": "code",
      "source": [
        "#Freature engineering\n",
        "print(\"\\n\" + \"=\"*80)\n",
        "print(\"STEP 4: FEATURE ENGINEERING\")\n",
        "print(\"=\"*80)\n",
        "\n",
        "print(\"\\n\" + \"-\"*80)\n",
        "print(\"Creating New Features:\")\n",
        "print(\"-\"*80)"
      ],
      "metadata": {
        "colab": {
          "base_uri": "https://localhost:8080/"
        },
        "id": "QdtEnZkhYWx4",
        "outputId": "f7e07c1f-28fa-4758-a182-ee3b92e8ab04"
      },
      "execution_count": null,
      "outputs": [
        {
          "output_type": "stream",
          "name": "stdout",
          "text": [
            "\n",
            "================================================================================\n",
            "STEP 4: FEATURE ENGINEERING\n",
            "================================================================================\n",
            "\n",
            "--------------------------------------------------------------------------------\n",
            "Creating New Features:\n",
            "--------------------------------------------------------------------------------\n"
          ]
        }
      ]
    },
    {
      "cell_type": "code",
      "source": [
        "# Feature 1: Family Size\n",
        "print(\"1. Creating 'family_size' feature (SibSp + Parch + 1)\")\n",
        "df_cleaned['family_size'] = df_cleaned['SibSp'] + df_cleaned['Parch'] + 1"
      ],
      "metadata": {
        "colab": {
          "base_uri": "https://localhost:8080/"
        },
        "id": "ZVDhSub-Yl4e",
        "outputId": "3906fd89-c71f-4201-e5d3-cd7e8e74c2a9"
      },
      "execution_count": null,
      "outputs": [
        {
          "output_type": "stream",
          "name": "stdout",
          "text": [
            "1. Creating 'family_size' feature (SibSp + Parch + 1)\n"
          ]
        }
      ]
    },
    {
      "cell_type": "code",
      "source": [
        "# Feature 2: Is Alone\n",
        "print(\"2. Creating 'is_alone' feature (1 if traveling alone)\")\n",
        "df_cleaned['is_alone'] = (df_cleaned['family_size'] == 1).astype(int)"
      ],
      "metadata": {
        "colab": {
          "base_uri": "https://localhost:8080/"
        },
        "id": "_IrgfD3HY-HW",
        "outputId": "dcf288e7-686e-4278-ffec-e7ea5d64cce9"
      },
      "execution_count": null,
      "outputs": [
        {
          "output_type": "stream",
          "name": "stdout",
          "text": [
            "2. Creating 'is_alone' feature (1 if traveling alone)\n"
          ]
        }
      ]
    },
    {
      "cell_type": "code",
      "source": [
        "# Feature 3: Age Groups\n",
        "print(\"3. Creating 'age_group' feature (Child, Teen, Adult, Senior)\")\n",
        "df_cleaned['age_group'] = pd.cut(df_cleaned['Age'],\n",
        "                                  bins=[0, 12, 18, 60, 100],\n",
        "                                  labels=['Child', 'Teen', 'Adult', 'Senior'])"
      ],
      "metadata": {
        "colab": {
          "base_uri": "https://localhost:8080/"
        },
        "id": "LNSULoACZCR0",
        "outputId": "293fbaff-33bd-450f-d12b-276741e6c6d1"
      },
      "execution_count": null,
      "outputs": [
        {
          "output_type": "stream",
          "name": "stdout",
          "text": [
            "3. Creating 'age_group' feature (Child, Teen, Adult, Senior)\n"
          ]
        }
      ]
    },
    {
      "cell_type": "code",
      "source": [
        "# Feature 4: Fare per Person\n",
        "print(\"4. Creating 'fare_per_person' feature\")\n",
        "df_cleaned['fare_per_person'] = df_cleaned['Fare'] / df_cleaned['family_size']"
      ],
      "metadata": {
        "colab": {
          "base_uri": "https://localhost:8080/"
        },
        "id": "Q9qJmGiqZT8l",
        "outputId": "fb81078a-4906-4b7f-d495-54e2495fe5eb"
      },
      "execution_count": null,
      "outputs": [
        {
          "output_type": "stream",
          "name": "stdout",
          "text": [
            "4. Creating 'fare_per_person' feature\n"
          ]
        }
      ]
    },
    {
      "cell_type": "code",
      "source": [
        "# Feature 5: Title Extraction\n",
        "print(\"5. Extracting 'title' from name\")\n",
        "df_cleaned['title'] = df_cleaned['Name'].str.extract(r' ([A-Za-z]+)\\.', expand=False)"
      ],
      "metadata": {
        "colab": {
          "base_uri": "https://localhost:8080/"
        },
        "id": "ur5tLI37Zk46",
        "outputId": "3aa7b5b8-f3e1-4f89-ca5a-ec9f7b16a30f"
      },
      "execution_count": null,
      "outputs": [
        {
          "output_type": "stream",
          "name": "stdout",
          "text": [
            "5. Extracting 'title' from name\n"
          ]
        }
      ]
    },
    {
      "cell_type": "code",
      "source": [
        "# Simplify titles\n",
        "title_mapping = {\n",
        "    'Mr': 'Mr', 'Miss': 'Miss', 'Mrs': 'Mrs', 'Master': 'Master',\n",
        "    'Dr': 'Rare', 'Rev': 'Rare', 'Col': 'Rare', 'Major': 'Rare', 'Mlle': 'Miss',\n",
        "    'Countess': 'Rare', 'Ms': 'Miss', 'Lady': 'Rare', 'Jonkheer': 'Rare',\n",
        "    'Don': 'Rare', 'Dona': 'Rare', 'Mme': 'Mrs', 'Capt': 'Rare', 'Sir': 'Rare'\n",
        "}\n",
        "df_cleaned['title'] = df_cleaned['title'].map(title_mapping)\n",
        "df_cleaned['title'].fillna('Rare', inplace=True)"
      ],
      "metadata": {
        "colab": {
          "base_uri": "https://localhost:8080/"
        },
        "id": "qJIuyUmxZt2b",
        "outputId": "71b4a41b-6949-477c-d213-61ba7ce31aa0"
      },
      "execution_count": null,
      "outputs": [
        {
          "output_type": "stream",
          "name": "stderr",
          "text": [
            "/tmp/ipython-input-1746361139.py:9: FutureWarning: A value is trying to be set on a copy of a DataFrame or Series through chained assignment using an inplace method.\n",
            "The behavior will change in pandas 3.0. This inplace method will never work because the intermediate object on which we are setting values always behaves as a copy.\n",
            "\n",
            "For example, when doing 'df[col].method(value, inplace=True)', try using 'df.method({col: value}, inplace=True)' or df[col] = df[col].method(value) instead, to perform the operation inplace on the original object.\n",
            "\n",
            "\n",
            "  df_cleaned['title'].fillna('Rare', inplace=True)\n"
          ]
        }
      ]
    },
    {
      "cell_type": "code",
      "source": [
        "# Feature 6: Cabin Availability\n",
        "print(\"6. Creating 'has_cabin' feature\")\n",
        "# Use the original 'Cabin' column from df to create the feature\n",
        "df_cleaned['has_cabin'] = df['Cabin'].notna().astype(int)"
      ],
      "metadata": {
        "colab": {
          "base_uri": "https://localhost:8080/"
        },
        "id": "V59lWxBnZ1KR",
        "outputId": "33ee75a1-d4af-48c8-89a3-1aa1167cd5fb"
      },
      "execution_count": null,
      "outputs": [
        {
          "output_type": "stream",
          "name": "stdout",
          "text": [
            "6. Creating 'has_cabin' feature\n"
          ]
        }
      ]
    },
    {
      "cell_type": "code",
      "source": [
        "print(\"\\nFeature engineering completed!\")\n",
        "print(\"Total new features created: 6\")"
      ],
      "metadata": {
        "colab": {
          "base_uri": "https://localhost:8080/"
        },
        "id": "zde7Hy8yaKAJ",
        "outputId": "a6f07940-cf87-41ca-8e11-45da6a07d7c0"
      },
      "execution_count": null,
      "outputs": [
        {
          "output_type": "stream",
          "name": "stdout",
          "text": [
            "\n",
            "Feature engineering completed!\n",
            "Total new features created: 6\n"
          ]
        }
      ]
    },
    {
      "cell_type": "code",
      "source": [
        "# Display sample of new features\n",
        "print(\"\\n\" + \"-\"*80)\n",
        "print(\"Sample of New Features:\")\n",
        "print(\"-\"*80)\n",
        "new_features = ['family_size', 'is_alone', 'age_group', 'fare_per_person', 'title', 'has_cabin']\n",
        "print(df_cleaned[new_features].head(10))"
      ],
      "metadata": {
        "colab": {
          "base_uri": "https://localhost:8080/"
        },
        "id": "m8yzzz40aOAa",
        "outputId": "ecebab1b-807c-4a48-dc46-68c0068537f1"
      },
      "execution_count": null,
      "outputs": [
        {
          "output_type": "stream",
          "name": "stdout",
          "text": [
            "\n",
            "--------------------------------------------------------------------------------\n",
            "Sample of New Features:\n",
            "--------------------------------------------------------------------------------\n",
            "    family_size  is_alone age_group  fare_per_person title  has_cabin\n",
            "1             2         0     Adult        35.641650   Mrs          1\n",
            "3             2         0     Adult        26.550000   Mrs          1\n",
            "6             1         1     Adult        51.862500    Mr          1\n",
            "10            3         0     Child         5.566667  Miss          1\n",
            "11            1         1     Adult        26.550000  Miss          1\n",
            "21            1         1     Adult        13.000000    Mr          1\n",
            "23            1         1     Adult        35.500000    Mr          1\n",
            "27            6         0     Adult        43.833333    Mr          1\n",
            "31            2         0     Adult        73.260400   Mrs          1\n",
            "52            2         0     Adult        38.364600   Mrs          1\n"
          ]
        }
      ]
    },
    {
      "cell_type": "code",
      "source": [
        "print(\"\\n\" + \"=\"*80)\n",
        "print(\"STEP 5: CONVERTING CATEGORICAL FEATURES TO NUMERICAL\")\n",
        "print(\"=\"*80)"
      ],
      "metadata": {
        "colab": {
          "base_uri": "https://localhost:8080/"
        },
        "id": "dCs6grl-aS6u",
        "outputId": "0a59516a-85fa-4cb4-e997-6f0520f86edd"
      },
      "execution_count": null,
      "outputs": [
        {
          "output_type": "stream",
          "name": "stdout",
          "text": [
            "\n",
            "================================================================================\n",
            "STEP 5: CONVERTING CATEGORICAL FEATURES TO NUMERICAL\n",
            "================================================================================\n"
          ]
        }
      ]
    },
    {
      "cell_type": "code",
      "source": [
        "# Create a copy for encoding\n",
        "df_encoded = df_cleaned.copy()"
      ],
      "metadata": {
        "id": "tTJ9qT9JaXCn"
      },
      "execution_count": null,
      "outputs": []
    },
    {
      "cell_type": "code",
      "source": [
        "print(\"\\n\" + \"-\"*80)\n",
        "print(\"Encoding Categorical Variables:\")\n",
        "print(\"-\"*80)"
      ],
      "metadata": {
        "colab": {
          "base_uri": "https://localhost:8080/"
        },
        "id": "-6fggx7gadq2",
        "outputId": "777beb40-69c5-43f4-aa2b-fb7579be869b"
      },
      "execution_count": null,
      "outputs": [
        {
          "output_type": "stream",
          "name": "stdout",
          "text": [
            "\n",
            "--------------------------------------------------------------------------------\n",
            "Encoding Categorical Variables:\n",
            "--------------------------------------------------------------------------------\n"
          ]
        }
      ]
    },
    {
      "cell_type": "code",
      "source": [
        "# Binary encoding for 'Sex'\n",
        "print(\"1. Binary encoding for 'Sex' (male=1, female=0)\")\n",
        "df_encoded['Sex'] = df_encoded['Sex'].map({'male': 1, 'female': 0})"
      ],
      "metadata": {
        "colab": {
          "base_uri": "https://localhost:8080/"
        },
        "id": "nbGiG3TyaiN0",
        "outputId": "8b4dde9f-4dbf-488e-cc8b-97610cb1bae5"
      },
      "execution_count": null,
      "outputs": [
        {
          "output_type": "stream",
          "name": "stdout",
          "text": [
            "1. Binary encoding for 'Sex' (male=1, female=0)\n"
          ]
        }
      ]
    },
    {
      "cell_type": "code",
      "source": [
        "# One-hot encoding for 'Embarked'\n",
        "print(\"2. One-hot encoding for 'Embarked'\")\n",
        "df_encoded = pd.get_dummies(df_encoded, columns=['Embarked'], prefix='Embarked', drop_first=True)"
      ],
      "metadata": {
        "colab": {
          "base_uri": "https://localhost:8080/"
        },
        "id": "mzB7E7d4azhL",
        "outputId": "6af2c855-9f50-440f-c8a5-6518c218b32b"
      },
      "execution_count": null,
      "outputs": [
        {
          "output_type": "stream",
          "name": "stdout",
          "text": [
            "2. One-hot encoding for 'Embarked'\n"
          ]
        }
      ]
    },
    {
      "cell_type": "code",
      "source": [
        "# Label encoding for 'title'\n",
        "print(\"3. Label encoding for 'title'\")\n",
        "le_title = LabelEncoder()\n",
        "df_encoded['title_encoded'] = le_title.fit_transform(df_encoded['title'])\n"
      ],
      "metadata": {
        "colab": {
          "base_uri": "https://localhost:8080/"
        },
        "id": "vf56_H9CbAyq",
        "outputId": "fb395475-9c1c-48be-a2e3-e874712acb15"
      },
      "execution_count": null,
      "outputs": [
        {
          "output_type": "stream",
          "name": "stdout",
          "text": [
            "3. Label encoding for 'title'\n"
          ]
        }
      ]
    },
    {
      "cell_type": "code",
      "source": [
        "# One-hot encoding for 'age_group'\n",
        "print(\"4. One-hot encoding for 'age_group'\")\n",
        "df_encoded = pd.get_dummies(df_encoded, columns=['age_group'], prefix='age_group', drop_first=True)\n",
        "\n",
        "print(\"\\nAll categorical variables encoded!\")"
      ],
      "metadata": {
        "colab": {
          "base_uri": "https://localhost:8080/"
        },
        "id": "9q6XhQiybI4s",
        "outputId": "fcc9e61e-9dc5-45d8-b220-e72842ec73c4"
      },
      "execution_count": null,
      "outputs": [
        {
          "output_type": "stream",
          "name": "stdout",
          "text": [
            "4. One-hot encoding for 'age_group'\n",
            "\n",
            "All categorical variables encoded!\n"
          ]
        }
      ]
    },
    {
      "cell_type": "code",
      "source": [
        "print(\"\\n\" + \"=\"*80)\n",
        "print(\"STEP 6: FEATURE SCALING OR NORMALIZATION\")\n",
        "print(\"=\"*80)\n",
        "\n",
        "print(\"\\n\" + \"-\"*80)\n",
        "print(\"Applying StandardScaler to Numerical Features:\")\n",
        "print(\"-\"*80)\n",
        "\n",
        "# Select numerical features for scaling\n",
        "numerical_cols = ['Age', 'Fare', 'fare_per_person']\n",
        "\n",
        "print(f\"Features to scale: {numerical_cols}\")\n",
        "\n",
        "# Apply StandardScaler\n",
        "scaler = StandardScaler()\n",
        "df_encoded[numerical_cols] = scaler.fit_transform(df_encoded[numerical_cols])\n",
        "\n",
        "print(\"Feature scaling completed using StandardScaler\")"
      ],
      "metadata": {
        "colab": {
          "base_uri": "https://localhost:8080/"
        },
        "id": "OeZa7i0TbWJp",
        "outputId": "4a649808-9e1b-4342-d627-185146d58d68"
      },
      "execution_count": null,
      "outputs": [
        {
          "output_type": "stream",
          "name": "stdout",
          "text": [
            "\n",
            "================================================================================\n",
            "STEP 6: FEATURE SCALING OR NORMALIZATION\n",
            "================================================================================\n",
            "\n",
            "--------------------------------------------------------------------------------\n",
            "Applying StandardScaler to Numerical Features:\n",
            "--------------------------------------------------------------------------------\n",
            "Features to scale: ['Age', 'Fare', 'fare_per_person']\n",
            "Feature scaling completed using StandardScaler\n"
          ]
        }
      ]
    },
    {
      "cell_type": "code",
      "source": [
        "print(\"\\n\" + \"=\"*80)\n",
        "print(\"STEP 7: FEATURE SELECTION FOR MODELING\")\n",
        "print(\"=\"*80)\n",
        "# Select relevant features for machine learning\n",
        "features_for_modeling = [\n",
        "    'Pclass', 'Sex', 'Age', 'SibSp', 'Parch', 'Fare',\n",
        "    'family_size', 'is_alone', 'fare_per_person', 'has_cabin',\n",
        "    'title_encoded'\n",
        "]\n",
        "\n",
        "# Add one-hot encoded columns\n",
        "for col in df_encoded.columns:\n",
        "    if col.startswith('Embarked_') or col.startswith('age_group_'):\n",
        "        features_for_modeling.append(col)\n",
        "\n",
        "X = df_encoded[features_for_modeling]\n",
        "y = df_encoded['Survived']\n",
        "\n",
        "print(f\"\\nTotal features selected: {len(features_for_modeling)}\")\n",
        "print(f\"Feature matrix shape: {X.shape}\")\n",
        "print(f\"Target variable shape: {y.shape}\")\n",
        "\n",
        "print(f\"\\nTarget distribution:\")\n",
        "print(y.value_counts())"
      ],
      "metadata": {
        "colab": {
          "base_uri": "https://localhost:8080/"
        },
        "id": "qKT61nPXbdNl",
        "outputId": "07adc9c7-7cd3-48ec-8634-eda10182ecaf"
      },
      "execution_count": null,
      "outputs": [
        {
          "output_type": "stream",
          "name": "stdout",
          "text": [
            "\n",
            "================================================================================\n",
            "STEP 7: FEATURE SELECTION FOR MODELING\n",
            "================================================================================\n",
            "\n",
            "Total features selected: 16\n",
            "Feature matrix shape: (204, 16)\n",
            "Target variable shape: (204,)\n",
            "\n",
            "Target distribution:\n",
            "Survived\n",
            "1    136\n",
            "0     68\n",
            "Name: count, dtype: int64\n"
          ]
        }
      ]
    },
    {
      "cell_type": "code",
      "source": [
        "print(\"\\n\" + \"=\"*80)\n",
        "print(\"STEP 8: EXPLORATORY DATA ANALYSIS\")\n",
        "print(\"=\"*80)\n",
        "\n",
        "print(\"\\nGenerating EDA visualizations...\")\n",
        "\n",
        "# Create EDA visualizations\n",
        "fig = plt.figure(figsize=(18, 12))\n",
        "\n",
        "# 1. Survival rate by class\n",
        "ax1 = plt.subplot(2, 3, 1)\n",
        "df_cleaned.groupby('Pclass')['Survived'].mean().plot(kind='bar', ax=ax1, color='steelblue', edgecolor='black')\n",
        "ax1.set_title('Survival Rate by Passenger Class', fontweight='bold')\n",
        "ax1.set_ylabel('Survival Rate')\n",
        "ax1.set_xticklabels(['1st', '2nd', '3rd'], rotation=0)\n",
        "ax1.grid(True, alpha=0.3)\n",
        "\n",
        "# 2. Survival rate by sex\n",
        "ax2 = plt.subplot(2, 3, 2)\n",
        "df_cleaned.groupby('Sex')['Survived'].mean().plot(kind='bar', ax=ax2, color='coral', edgecolor='black')\n",
        "ax2.set_title('Survival Rate by Gender', fontweight='bold')\n",
        "ax2.set_ylabel('Survival Rate')\n",
        "ax2.set_xticklabels(['Female', 'Male'], rotation=0)\n",
        "ax2.grid(True, alpha=0.3)\n",
        "\n",
        "# 3. Age distribution by survival\n",
        "ax3 = plt.subplot(2, 3, 3)\n",
        "df_cleaned[df_cleaned['Survived']==0]['Age'].hist(bins=30, ax=ax3, alpha=0.6, label='Not Survived', color='red', edgecolor='black')\n",
        "df_cleaned[df_cleaned['Survived']==1]['Age'].hist(bins=30, ax=ax3, alpha=0.6, label='Survived', color='green', edgecolor='black')\n",
        "ax3.set_title('Age Distribution by Survival', fontweight='bold')\n",
        "ax3.set_xlabel('Age')\n",
        "ax3.set_ylabel('Count')\n",
        "ax3.legend()\n",
        "ax3.grid(True, alpha=0.3)\n",
        "\n",
        "# 4. Survival by family size\n",
        "ax4 = plt.subplot(2, 3, 4)\n",
        "df_cleaned.groupby('family_size')['Survived'].mean().plot(kind='line', ax=ax4, marker='o', color='purple', linewidth=2)\n",
        "ax4.set_title('Survival Rate by Family Size', fontweight='bold')\n",
        "ax4.set_xlabel('Family Size')\n",
        "ax4.set_ylabel('Survival Rate')\n",
        "ax4.grid(True, alpha=0.3)\n",
        "\n",
        "# 5. Survival by title\n",
        "ax5 = plt.subplot(2, 3, 5)\n",
        "df_cleaned.groupby('title')['Survived'].mean().plot(kind='bar', ax=ax5, color='orange', edgecolor='black')\n",
        "ax5.set_title('Survival Rate by Title', fontweight='bold')\n",
        "ax5.set_ylabel('Survival Rate')\n",
        "ax5.tick_params(axis='x', rotation=45)\n",
        "ax5.grid(True, alpha=0.3)\n",
        "\n",
        "# 6. Correlation heatmap\n",
        "ax6 = plt.subplot(2, 3, 6)\n",
        "correlation_features = ['Survived', 'Pclass', 'Sex', 'Age', 'SibSp', 'Parch',\n",
        "                        'Fare', 'family_size', 'is_alone', 'fare_per_person']\n",
        "corr_matrix = df_encoded[correlation_features].corr()\n",
        "sns.heatmap(corr_matrix, annot=True, fmt='.2f', cmap='coolwarm', ax=ax6,\n",
        "            square=True, linewidths=0.5, cbar_kws={\"shrink\": 0.8})\n",
        "ax6.set_title('Feature Correlation Matrix', fontweight='bold')\n",
        "\n",
        "plt.tight_layout()\n",
        "plt.show()"
      ],
      "metadata": {
        "colab": {
          "base_uri": "https://localhost:8080/",
          "height": 741
        },
        "id": "vsCCPjcicA2E",
        "outputId": "54d39c37-9658-425f-907e-e85566eeff0f"
      },
      "execution_count": null,
      "outputs": [
        {
          "output_type": "stream",
          "name": "stdout",
          "text": [
            "\n",
            "================================================================================\n",
            "STEP 8: EXPLORATORY DATA ANALYSIS\n",
            "================================================================================\n",
            "\n",
            "Generating EDA visualizations...\n"
          ]
        },
        {
          "output_type": "display_data",
          "data": {
            "text/plain": [
              "<Figure size 1800x1200 with 7 Axes>"
            ],
            "image/png": "[encoded data removed]"
          },
          "metadata": {}
        }
      ]
    },
    {
      "cell_type": "code",
      "source": [
        "print(\"\\n\" + \"=\"*80)\n",
        "print(\"STEP 9: SAVING PROCESSED DATA\")\n",
        "print(\"=\"*80)\n",
        "\n",
        "# Save cleaned data\n",
        "df_cleaned.to_csv('titanic_cleaned.csv', index=False)\n",
        "print(\"Cleaned data saved to 'titanic_cleaned.csv'\")\n",
        "\n",
        "# Save encoded data\n",
        "df_encoded.to_csv('titanic_encoded.csv', index=False)\n",
        "print(\"Encoded data saved to 'titanic_encoded.csv'\")\n",
        "\n",
        "# Save feature matrix and target\n",
        "X.to_csv('titanic_features.csv', index=False)\n",
        "print(\"Feature matrix saved to 'titanic_features.csv'\")\n",
        "\n",
        "y.to_csv('titanic_target.csv', index=False)\n",
        "print(\"Target variable saved to 'titanic_target.csv'\")"
      ],
      "metadata": {
        "colab": {
          "base_uri": "https://localhost:8080/"
        },
        "id": "vvpJZ44zcTzQ",
        "outputId": "52aae3f3-99bf-4157-e7b4-81ab25b52452"
      },
      "execution_count": null,
      "outputs": [
        {
          "output_type": "stream",
          "name": "stdout",
          "text": [
            "\n",
            "================================================================================\n",
            "STEP 9: SAVING PROCESSED DATA\n",
            "================================================================================\n",
            "Cleaned data saved to 'titanic_cleaned.csv'\n",
            "Encoded data saved to 'titanic_encoded.csv'\n",
            "Feature matrix saved to 'titanic_features.csv'\n",
            "Target variable saved to 'titanic_target.csv'\n"
          ]
        }
      ]
    },
    {
      "cell_type": "code",
      "source": [
        "print(\"\\n\" + \"=\"*80)\n",
        "print(\"PROJECT COMPLETION SUMMARY\")\n",
        "print(\"=\"*80)"
      ],
      "metadata": {
        "colab": {
          "base_uri": "https://localhost:8080/"
        },
        "id": "CMJvMBOAcdhZ",
        "outputId": "2d23c335-ebe4-4043-d181-2e5a51f28674"
      },
      "execution_count": null,
      "outputs": [
        {
          "output_type": "stream",
          "name": "stdout",
          "text": [
            "\n",
            "================================================================================\n",
            "PROJECT COMPLETION SUMMARY\n",
            "================================================================================\n"
          ]
        }
      ]
    }
  ]
}