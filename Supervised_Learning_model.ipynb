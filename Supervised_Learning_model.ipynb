{
  "nbformat": 4,
  "nbformat_minor": 0,
  "metadata": {
    "colab": {
      "provenance": [],
      "authorship_tag": "ABX9TyNkqkGL+9EJm5y5nUAmGFTc",
      "include_colab_link": true
    },
    "kernelspec": {
      "name": "python3",
      "display_name": "Python 3"
    },
    "language_info": {
      "name": "python"
    }
  },
  "cells": [
    {
      "cell_type": "markdown",
      "metadata": {
        "id": "view-in-github",
        "colab_type": "text"
      },
      "source": [
        "<a href=\"https://colab.research.google.com/github/aarupach/Aaru/blob/main/Supervised_Learning_model.ipynb\" target=\"_parent\"><img src=\"https://colab.research.google.com/assets/colab-badge.svg\" alt=\"Open In Colab\"/></a>"
      ]
    },
    {
      "cell_type": "code",
      "source": [
        "import numpy as np\n",
        "import pandas as pd\n",
        "import matplotlib.pyplot as plt\n",
        "import seaborn as sns\n",
        "from sklearn.model_selection import train_test_split, cross_val_score, GridSearchCV\n",
        "from sklearn.preprocessing import StandardScaler\n",
        "from sklearn.linear_model import LogisticRegression\n",
        "from sklearn.tree import DecisionTreeClassifier, plot_tree\n",
        "from sklearn.metrics import accuracy_score, confusion_matrix, classification_report, roc_auc_score, roc_curve"
      ],
      "metadata": {
        "id": "MDupR0a2LBE4"
      },
      "execution_count": 8,
      "outputs": []
    },
    {
      "cell_type": "code",
      "source": [
        "print(\"=\"*80)\n",
        "print(\"TASK 3: SUPERVISED LEARNING ON TITANIC DATASET\")\n",
        "print(\"=\"*80)"
      ],
      "metadata": {
        "colab": {
          "base_uri": "https://localhost:8080/"
        },
        "id": "-xe7LSZjLJ6k",
        "outputId": "ace4e3ac-1422-4d6e-eac6-adca5eb938b5"
      },
      "execution_count": 9,
      "outputs": [
        {
          "output_type": "stream",
          "name": "stdout",
          "text": [
            "================================================================================\n",
            "TASK 3: SUPERVISED LEARNING ON TITANIC DATASET\n",
            "================================================================================\n"
          ]
        }
      ]
    },
    {
      "cell_type": "code",
      "source": [
        "print(\"\\nSTEP 1: DATA PREPROCESSING\")\n",
        "print(\"-\"*80)"
      ],
      "metadata": {
        "colab": {
          "base_uri": "https://localhost:8080/"
        },
        "id": "Skg82GywLStG",
        "outputId": "87f39ade-447d-464c-bd9a-bce4c56199e0"
      },
      "execution_count": 10,
      "outputs": [
        {
          "output_type": "stream",
          "name": "stdout",
          "text": [
            "\n",
            "STEP 1: DATA PREPROCESSING\n",
            "--------------------------------------------------------------------------------\n"
          ]
        }
      ]
    },
    {
      "cell_type": "code",
      "source": [
        "# Load dataset\n",
        "print(\"\\nLoading dataset...\")\n",
        "df = sns.load_dataset('titanic')\n",
        "print(f\"Dataset loaded: {df.shape}\")"
      ],
      "metadata": {
        "colab": {
          "base_uri": "https://localhost:8080/"
        },
        "id": "FmgJAL3OLW7q",
        "outputId": "baa7f5a5-d2f8-4c40-cfb5-798ca7ef82b4"
      },
      "execution_count": 11,
      "outputs": [
        {
          "output_type": "stream",
          "name": "stdout",
          "text": [
            "\n",
            "Loading dataset...\n",
            "Dataset loaded: (891, 15)\n"
          ]
        }
      ]
    },
    {
      "cell_type": "code",
      "source": [
        "# Data cleaning\n",
        "df_clean = df.copy()"
      ],
      "metadata": {
        "id": "1ej7fJ7ILc4j"
      },
      "execution_count": 12,
      "outputs": []
    },
    {
      "cell_type": "code",
      "source": [
        "# Drop deck column\n",
        "if 'deck' in df_clean.columns:\n",
        "    df_clean = df_clean.drop('deck', axis=1)"
      ],
      "metadata": {
        "id": "vGdpvc9fLhXe"
      },
      "execution_count": 13,
      "outputs": []
    },
    {
      "cell_type": "code",
      "source": [
        "# Fill missing age\n",
        "df_clean['age'] = df_clean.groupby('pclass')['age'].transform(lambda x: x.fillna(x.median()))"
      ],
      "metadata": {
        "id": "ARPw_3aILnAH"
      },
      "execution_count": 14,
      "outputs": []
    },
    {
      "cell_type": "code",
      "source": [
        "# Fill missing embarked\n",
        "if df_clean['embarked'].isnull().sum() > 0:\n",
        "    df_clean['embarked'] = df_clean['embarked'].fillna(df_clean['embarked'].mode()[0])"
      ],
      "metadata": {
        "id": "kqgJjuE-LsJl"
      },
      "execution_count": 15,
      "outputs": []
    },
    {
      "cell_type": "code",
      "source": [
        "# Fill embark_town if exists\n",
        "if 'embark_town' in df_clean.columns:\n",
        "    if df_clean['embark_town'].isnull().sum() > 0:\n",
        "        df_clean['embark_town'] = df_clean['embark_town'].fillna(df_clean['embark_town'].mode()[0])"
      ],
      "metadata": {
        "id": "DteP9puyLxSp"
      },
      "execution_count": 16,
      "outputs": []
    },
    {
      "cell_type": "code",
      "source": [
        "# Drop remaining nulls\n",
        "df_clean = df_clean.dropna()\n",
        "\n",
        "print(f\"After cleaning: {df_clean.shape}\")"
      ],
      "metadata": {
        "colab": {
          "base_uri": "https://localhost:8080/"
        },
        "id": "sFdexFFAL2j_",
        "outputId": "09debbd2-5a50-4c72-cb37-3a35ad4688c7"
      },
      "execution_count": 17,
      "outputs": [
        {
          "output_type": "stream",
          "name": "stdout",
          "text": [
            "After cleaning: (891, 14)\n"
          ]
        }
      ]
    },
    {
      "cell_type": "code",
      "source": [
        "# Feature engineering\n",
        "print(\"\\nCreating new features...\")\n",
        "df_clean['family_size'] = df_clean['sibsp'] + df_clean['parch'] + 1\n",
        "df_clean['is_alone'] = (df_clean['family_size'] == 1).astype(int)\n",
        "df_clean['fare_per_person'] = df_clean['fare'] / df_clean['family_size']"
      ],
      "metadata": {
        "colab": {
          "base_uri": "https://localhost:8080/"
        },
        "id": "YlY7ieIDMC5-",
        "outputId": "c2128afa-f572-4298-9956-6e2926446c72"
      },
      "execution_count": 19,
      "outputs": [
        {
          "output_type": "stream",
          "name": "stdout",
          "text": [
            "\n",
            "Creating new features...\n"
          ]
        }
      ]
    },
    {
      "cell_type": "code",
      "source": [
        "# Extract title\n",
        "# df_clean['title'] = df_clean['name'].str.extract(' ([A-Za-z]+)\\.', expand=False)\n",
        "# title_map = {'Mr': 'Mr', 'Miss': 'Miss', 'Mrs': 'Mrs', 'Master': 'Master'}\n",
        "# df_clean['title'] = df_clean['title'].map(title_map).fillna('Other')\n",
        "\n",
        "print(\"Features created: family_size, is_alone, fare_per_person\")"
      ],
      "metadata": {
        "colab": {
          "base_uri": "https://localhost:8080/"
        },
        "id": "Lv0qNPx4MbhF",
        "outputId": "e69251de-66dd-4858-c9e6-5534cfe3f2a2"
      },
      "execution_count": 24,
      "outputs": [
        {
          "output_type": "stream",
          "name": "stdout",
          "text": [
            "Features created: family_size, is_alone, fare_per_person\n"
          ]
        }
      ]
    },
    {
      "cell_type": "code",
      "source": [
        "# Encoding\n",
        "print(\"\\nEncoding categorical variables...\")\n",
        "df_encoded = df_clean.copy()\n",
        "df_encoded['sex'] = df_encoded['sex'].map({'male': 1, 'female': 0})\n",
        "# Removed 'title' from columns to encode as it was not created\n",
        "df_encoded = pd.get_dummies(df_encoded, columns=['embarked'], drop_first=True)"
      ],
      "metadata": {
        "colab": {
          "base_uri": "https://localhost:8080/"
        },
        "id": "q74WCUYrMkut",
        "outputId": "271eedff-cc60-43b0-cc49-a26ee3bce4d7"
      },
      "execution_count": 28,
      "outputs": [
        {
          "output_type": "stream",
          "name": "stdout",
          "text": [
            "\n",
            "Encoding categorical variables...\n"
          ]
        }
      ]
    },
    {
      "cell_type": "code",
      "source": [
        "# Select features\n",
        "feature_cols = ['pclass', 'sex', 'age', 'sibsp', 'parch', 'fare',\n",
        "                'family_size', 'is_alone', 'fare_per_person']"
      ],
      "metadata": {
        "id": "eX5n0tg1NB-K"
      },
      "execution_count": 32,
      "outputs": []
    },
    {
      "cell_type": "code",
      "source": [
        "# Add dummy columns\n",
        "for col in df_encoded.columns:\n",
        "    if col.startswith('embarked_') or col.startswith('title_'):\n",
        "        feature_cols.append(col)\n",
        "\n",
        "X = df_encoded[feature_cols]\n",
        "y = df_encoded['survived']\n",
        "\n",
        "print(f\"Features selected: {len(feature_cols)}\")\n",
        "print(f\"X shape: {X.shape}, y shape: {y.shape}\")"
      ],
      "metadata": {
        "colab": {
          "base_uri": "https://localhost:8080/"
        },
        "id": "pjBFg1hHNDeo",
        "outputId": "df01ce1a-2a5c-4e9b-b142-cb7f91419400"
      },
      "execution_count": 33,
      "outputs": [
        {
          "output_type": "stream",
          "name": "stdout",
          "text": [
            "Features selected: 11\n",
            "X shape: (891, 11), y shape: (891,)\n"
          ]
        }
      ]
    },
    {
      "cell_type": "code",
      "source": [
        "# Split data\n",
        "X_train, X_test, y_train, y_test = train_test_split(X, y, test_size=0.2, random_state=42, stratify=y)\n",
        "print(f\"\\nTrain: {X_train.shape}, Test: {X_test.shape}\")\n"
      ],
      "metadata": {
        "colab": {
          "base_uri": "https://localhost:8080/"
        },
        "id": "4Rqe8rvoNdxS",
        "outputId": "44bbfe06-cb69-421a-ec50-763589887127"
      },
      "execution_count": 34,
      "outputs": [
        {
          "output_type": "stream",
          "name": "stdout",
          "text": [
            "\n",
            "Train: (712, 11), Test: (179, 11)\n"
          ]
        }
      ]
    },
    {
      "cell_type": "code",
      "source": [
        "# Scale features\n",
        "scaler = StandardScaler()\n",
        "X_train_scaled = scaler.fit_transform(X_train)\n",
        "X_test_scaled = scaler.transform(X_test)\n",
        "print(\"Features scaled\")"
      ],
      "metadata": {
        "colab": {
          "base_uri": "https://localhost:8080/"
        },
        "id": "LcW9371NNjH-",
        "outputId": "2001578a-998a-4af0-d3e4-1f871a8a5533"
      },
      "execution_count": 35,
      "outputs": [
        {
          "output_type": "stream",
          "name": "stdout",
          "text": [
            "Features scaled\n"
          ]
        }
      ]
    },
    {
      "cell_type": "code",
      "source": [
        "print(\"\\n\" + \"=\"*80)\n",
        "print(\"STEP 2: LOGISTIC REGRESSION\")\n",
        "print(\"-\"*80)\n",
        "\n",
        "lr_model = LogisticRegression(random_state=42, max_iter=1000)\n",
        "lr_model.fit(X_train_scaled, y_train)\n",
        "\n",
        "lr_train_pred = lr_model.predict(X_train_scaled)\n",
        "lr_test_pred = lr_model.predict(X_test_scaled)\n",
        "lr_test_proba = lr_model.predict_proba(X_test_scaled)[:, 1]\n",
        "\n",
        "lr_train_acc = accuracy_score(y_train, lr_train_pred)\n",
        "lr_test_acc = accuracy_score(y_test, lr_test_pred)\n",
        "lr_roc_auc = roc_auc_score(y_test, lr_test_proba)\n",
        "\n",
        "print(f\"\\nTrain Accuracy: {lr_train_acc:.4f}\")\n",
        "print(f\"Test Accuracy: {lr_test_acc:.4f}\")\n",
        "print(f\"ROC-AUC: {lr_roc_auc:.4f}\")\n",
        "\n",
        "print(\"\\nConfusion Matrix:\")\n",
        "cm_lr = confusion_matrix(y_test, lr_test_pred)\n",
        "print(cm_lr)\n",
        "\n",
        "print(\"\\nClassification Report:\")\n",
        "print(classification_report(y_test, lr_test_pred))\n"
      ],
      "metadata": {
        "colab": {
          "base_uri": "https://localhost:8080/"
        },
        "id": "cST0VvnlNm7P",
        "outputId": "b3b901a2-8c27-4fc6-a228-7f344d1c5cb4"
      },
      "execution_count": 36,
      "outputs": [
        {
          "output_type": "stream",
          "name": "stdout",
          "text": [
            "\n",
            "================================================================================\n",
            "STEP 2: LOGISTIC REGRESSION\n",
            "--------------------------------------------------------------------------------\n",
            "\n",
            "Train Accuracy: 0.8062\n",
            "Test Accuracy: 0.8101\n",
            "ROC-AUC: 0.8494\n",
            "\n",
            "Confusion Matrix:\n",
            "[[97 13]\n",
            " [21 48]]\n",
            "\n",
            "Classification Report:\n",
            "              precision    recall  f1-score   support\n",
            "\n",
            "           0       0.82      0.88      0.85       110\n",
            "           1       0.79      0.70      0.74        69\n",
            "\n",
            "    accuracy                           0.81       179\n",
            "   macro avg       0.80      0.79      0.79       179\n",
            "weighted avg       0.81      0.81      0.81       179\n",
            "\n"
          ]
        }
      ]
    },
    {
      "cell_type": "code",
      "source": [
        "# Feature importance\n",
        "feat_imp_lr = pd.DataFrame({\n",
        "    'Feature': X.columns,\n",
        "    'Coefficient': lr_model.coef_[0]\n",
        "}).sort_values('Coefficient', key=abs, ascending=False)\n",
        "\n",
        "print(\"\\nTop 10 Features:\")\n",
        "print(feat_imp_lr.head(10))"
      ],
      "metadata": {
        "colab": {
          "base_uri": "https://localhost:8080/"
        },
        "id": "89j_O9kaNtkp",
        "outputId": "ddf38d20-de65-4862-d17b-7b91ef5b95ef"
      },
      "execution_count": 37,
      "outputs": [
        {
          "output_type": "stream",
          "name": "stdout",
          "text": [
            "\n",
            "Top 10 Features:\n",
            "            Feature  Coefficient\n",
            "1               sex    -1.235180\n",
            "0            pclass    -0.964343\n",
            "2               age    -0.541435\n",
            "7          is_alone    -0.314600\n",
            "3             sibsp    -0.289428\n",
            "6       family_size    -0.217070\n",
            "10       embarked_S    -0.128000\n",
            "8   fare_per_person     0.126375\n",
            "9        embarked_Q     0.096695\n",
            "4             parch    -0.045258\n"
          ]
        }
      ]
    },
    {
      "cell_type": "code",
      "source": [
        "# Cross-validation\n",
        "cv_lr = cross_val_score(lr_model, X_train_scaled, y_train, cv=5)\n",
        "print(f\"\\nCV Score: {cv_lr.mean():.4f} (+/- {cv_lr.std()*2:.4f})\")"
      ],
      "metadata": {
        "colab": {
          "base_uri": "https://localhost:8080/"
        },
        "id": "UhsIP0YcNzXb",
        "outputId": "a322ea8f-2536-4aac-ec43-5fb51a42319a"
      },
      "execution_count": 38,
      "outputs": [
        {
          "output_type": "stream",
          "name": "stdout",
          "text": [
            "\n",
            "CV Score: 0.7993 (+/- 0.0636)\n"
          ]
        }
      ]
    },
    {
      "cell_type": "code",
      "source": [
        "print(\"\\n\" + \"=\"*80)\n",
        "print(\"STEP 3: DECISION TREE\")\n",
        "print(\"-\"*80)\n",
        "\n",
        "dt_model = DecisionTreeClassifier(random_state=42, max_depth=5)\n",
        "dt_model.fit(X_train, y_train)\n",
        "\n",
        "dt_train_pred = dt_model.predict(X_train)\n",
        "dt_test_pred = dt_model.predict(X_test)\n",
        "dt_test_proba = dt_model.predict_proba(X_test)[:, 1]\n",
        "\n",
        "dt_train_acc = accuracy_score(y_train, dt_train_pred)\n",
        "dt_test_acc = accuracy_score(y_test, dt_test_pred)\n",
        "dt_roc_auc = roc_auc_score(y_test, dt_test_proba)\n",
        "\n",
        "print(f\"\\nTrain Accuracy: {dt_train_acc:.4f}\")\n",
        "print(f\"Test Accuracy: {dt_test_acc:.4f}\")\n",
        "print(f\"ROC-AUC: {dt_roc_auc:.4f}\")\n",
        "\n",
        "print(\"\\nConfusion Matrix:\")\n",
        "cm_dt = confusion_matrix(y_test, dt_test_pred)\n",
        "print(cm_dt)\n",
        "\n",
        "print(\"\\nClassification Report:\")\n",
        "print(classification_report(y_test, dt_test_pred))"
      ],
      "metadata": {
        "colab": {
          "base_uri": "https://localhost:8080/"
        },
        "id": "2Rtj862QN3Yz",
        "outputId": "3eeca3ff-badc-4d61-fc5e-893b7019c82b"
      },
      "execution_count": 39,
      "outputs": [
        {
          "output_type": "stream",
          "name": "stdout",
          "text": [
            "\n",
            "================================================================================\n",
            "STEP 3: DECISION TREE\n",
            "--------------------------------------------------------------------------------\n",
            "\n",
            "Train Accuracy: 0.8764\n",
            "Test Accuracy: 0.7877\n",
            "ROC-AUC: 0.8022\n",
            "\n",
            "Confusion Matrix:\n",
            "[[95 15]\n",
            " [23 46]]\n",
            "\n",
            "Classification Report:\n",
            "              precision    recall  f1-score   support\n",
            "\n",
            "           0       0.81      0.86      0.83       110\n",
            "           1       0.75      0.67      0.71        69\n",
            "\n",
            "    accuracy                           0.79       179\n",
            "   macro avg       0.78      0.77      0.77       179\n",
            "weighted avg       0.79      0.79      0.78       179\n",
            "\n"
          ]
        }
      ]
    },
    {
      "cell_type": "code",
      "source": [
        "# Feature importance\n",
        "feat_imp_dt = pd.DataFrame({\n",
        "    'Feature': X.columns,\n",
        "    'Importance': dt_model.feature_importances_\n",
        "}).sort_values('Importance', ascending=False)\n",
        "\n",
        "print(\"\\nTop 10 Features:\")\n",
        "print(feat_imp_dt.head(10))"
      ],
      "metadata": {
        "colab": {
          "base_uri": "https://localhost:8080/"
        },
        "id": "hvSlYmd8OEnX",
        "outputId": "0adc6501-54a9-4615-f95a-d08d0ed7985f"
      },
      "execution_count": 40,
      "outputs": [
        {
          "output_type": "stream",
          "name": "stdout",
          "text": [
            "\n",
            "Top 10 Features:\n",
            "           Feature  Importance\n",
            "1              sex    0.516662\n",
            "0           pclass    0.149323\n",
            "8  fare_per_person    0.134572\n",
            "2              age    0.111643\n",
            "6      family_size    0.048401\n",
            "5             fare    0.032614\n",
            "4            parch    0.006785\n",
            "3            sibsp    0.000000\n",
            "7         is_alone    0.000000\n",
            "9       embarked_Q    0.000000\n"
          ]
        }
      ]
    },
    {
      "cell_type": "code",
      "source": [
        "# Cross-validation\n",
        "cv_dt = cross_val_score(dt_model, X_train, y_train, cv=5)\n",
        "print(f\"\\nCV Score: {cv_dt.mean():.4f} (+/- {cv_dt.std()*2:.4f})\")\n"
      ],
      "metadata": {
        "colab": {
          "base_uri": "https://localhost:8080/"
        },
        "id": "keaHEbaCOJuZ",
        "outputId": "6afeb0e4-3970-4a28-e433-5692c24daece"
      },
      "execution_count": 41,
      "outputs": [
        {
          "output_type": "stream",
          "name": "stdout",
          "text": [
            "\n",
            "CV Score: 0.8245 (+/- 0.0705)\n"
          ]
        }
      ]
    },
    {
      "cell_type": "code",
      "source": [
        "print(\"\\n\" + \"=\"*80)\n",
        "print(\"STEP 4: HYPERPARAMETER TUNING\")\n",
        "print(\"-\"*80)\n",
        "\n",
        "print(\"\\nRunning GridSearchCV...\")\n",
        "param_grid = {\n",
        "    'max_depth': [3, 5, 7],\n",
        "    'min_samples_split': [10, 20],\n",
        "    'min_samples_leaf': [5, 10]\n",
        "}\n",
        "\n",
        "grid = GridSearchCV(DecisionTreeClassifier(random_state=42), param_grid, cv=5, n_jobs=-1)\n",
        "grid.fit(X_train, y_train)\n",
        "\n",
        "print(f\"Best params: {grid.best_params_}\")\n",
        "print(f\"Best CV score: {grid.best_score_:.4f}\")\n",
        "\n",
        "best_model = grid.best_estimator_\n",
        "best_pred = best_model.predict(X_test)\n",
        "best_proba = best_model.predict_proba(X_test)[:, 1]\n",
        "\n",
        "best_acc = accuracy_score(y_test, best_pred)\n",
        "best_roc = roc_auc_score(y_test, best_proba)\n",
        "\n",
        "print(f\"\\nOptimized Test Accuracy: {best_acc:.4f}\")\n",
        "print(f\"Optimized ROC-AUC: {best_roc:.4f}\")"
      ],
      "metadata": {
        "colab": {
          "base_uri": "https://localhost:8080/"
        },
        "id": "NvIm1WTZONsI",
        "outputId": "6d4f301a-dec3-47d7-9ccd-5540283a1357"
      },
      "execution_count": 42,
      "outputs": [
        {
          "output_type": "stream",
          "name": "stdout",
          "text": [
            "\n",
            "================================================================================\n",
            "STEP 4: HYPERPARAMETER TUNING\n",
            "--------------------------------------------------------------------------------\n",
            "\n",
            "Running GridSearchCV...\n",
            "Best params: {'max_depth': 5, 'min_samples_leaf': 5, 'min_samples_split': 10}\n",
            "Best CV score: 0.8302\n",
            "\n",
            "Optimized Test Accuracy: 0.7821\n",
            "Optimized ROC-AUC: 0.8020\n"
          ]
        }
      ]
    },
    {
      "cell_type": "code",
      "source": [
        "print(\"\\n\" + \"=\"*80)\n",
        "print(\"STEP 5: MODEL COMPARISON\")\n",
        "print(\"-\"*80)\n",
        "\n",
        "results = pd.DataFrame({\n",
        "    'Model': ['Logistic Regression', 'Decision Tree', 'Optimized DT'],\n",
        "    'Train_Acc': [lr_train_acc, dt_train_acc, accuracy_score(y_train, best_model.predict(X_train))],\n",
        "    'Test_Acc': [lr_test_acc, dt_test_acc, best_acc],\n",
        "    'ROC_AUC': [lr_roc_auc, dt_roc_auc, best_roc],\n",
        "    'CV_Score': [cv_lr.mean(), cv_dt.mean(), grid.best_score_]\n",
        "})\n",
        "\n",
        "print(\"\\n\")\n",
        "print(results)\n",
        "\n",
        "best_idx = results['Test_Acc'].idxmax()\n",
        "print(f\"\\nBest Model: {results.loc[best_idx, 'Model']}\")\n",
        "print(f\"Test Accuracy: {results.loc[best_idx, 'Test_Acc']:.4f}\")"
      ],
      "metadata": {
        "colab": {
          "base_uri": "https://localhost:8080/"
        },
        "id": "lGKSnCP5OX2U",
        "outputId": "1e3961ec-fbcc-4cc6-ab66-a9e02c7cd705"
      },
      "execution_count": 43,
      "outputs": [
        {
          "output_type": "stream",
          "name": "stdout",
          "text": [
            "\n",
            "================================================================================\n",
            "STEP 5: MODEL COMPARISON\n",
            "--------------------------------------------------------------------------------\n",
            "\n",
            "\n",
            "                 Model  Train_Acc  Test_Acc   ROC_AUC  CV_Score\n",
            "0  Logistic Regression   0.806180  0.810056  0.849407  0.799261\n",
            "1        Decision Tree   0.876404  0.787709  0.802174  0.824544\n",
            "2         Optimized DT   0.867978  0.782123  0.801976  0.830159\n",
            "\n",
            "Best Model: Logistic Regression\n",
            "Test Accuracy: 0.8101\n"
          ]
        }
      ]
    },
    {
      "cell_type": "code",
      "source": [
        "print(\"\\n\" + \"=\"*80)\n",
        "print(\"STEP 6: VISUALIZATIONS\")\n",
        "print(\"-\"*80)\n",
        "\n",
        "fig = plt.figure(figsize=(16, 10))"
      ],
      "metadata": {
        "colab": {
          "base_uri": "https://localhost:8080/",
          "height": 104
        },
        "id": "-g6-YWL2Odkp",
        "outputId": "444aaf36-4fa4-47fb-c4f4-20fc9a5e5481"
      },
      "execution_count": 44,
      "outputs": [
        {
          "output_type": "stream",
          "name": "stdout",
          "text": [
            "\n",
            "================================================================================\n",
            "STEP 6: VISUALIZATIONS\n",
            "--------------------------------------------------------------------------------\n"
          ]
        },
        {
          "output_type": "display_data",
          "data": {
            "text/plain": [
              "<Figure size 1600x1000 with 0 Axes>"
            ]
          },
          "metadata": {}
        }
      ]
    },
    {
      "cell_type": "code",
      "source": [
        "# ROC Curves\n",
        "ax1 = plt.subplot(2, 3, 1)\n",
        "fpr_lr, tpr_lr, _ = roc_curve(y_test, lr_test_proba)\n",
        "fpr_dt, tpr_dt, _ = roc_curve(y_test, dt_test_proba)\n",
        "fpr_best, tpr_best, _ = roc_curve(y_test, best_proba)\n",
        "\n",
        "plt.plot(fpr_lr, tpr_lr, label=f'LR (AUC={lr_roc_auc:.3f})', linewidth=2)\n",
        "plt.plot(fpr_dt, tpr_dt, label=f'DT (AUC={dt_roc_auc:.3f})', linewidth=2)\n",
        "plt.plot(fpr_best, tpr_best, label=f'Best (AUC={best_roc:.3f})', linewidth=2)\n",
        "plt.plot([0, 1], [0, 1], 'k--', linewidth=1)\n",
        "plt.xlabel('False Positive Rate')\n",
        "plt.ylabel('True Positive Rate')\n",
        "plt.title('ROC Curves')\n",
        "plt.legend()\n",
        "plt.grid(True, alpha=0.3)"
      ],
      "metadata": {
        "colab": {
          "base_uri": "https://localhost:8080/",
          "height": 270
        },
        "id": "qF3o_Yu8OiIN",
        "outputId": "d3d476d3-126a-46e3-cff0-518b31b71283"
      },
      "execution_count": 45,
      "outputs": [
        {
          "output_type": "display_data",
          "data": {
            "text/plain": [
              "<Figure size 640x480 with 1 Axes>"
            ],
            "image/png": "[encoded data removed]"
          },
          "metadata": {}
        }
      ]
    },
    {
      "cell_type": "code",
      "source": [
        "# Confusion Matrix - LR\n",
        "ax2 = plt.subplot(2, 3, 2)\n",
        "sns.heatmap(cm_lr, annot=True, fmt='d', cmap='Blues', cbar=False)\n",
        "plt.title('CM - Logistic Regression')\n",
        "plt.ylabel('Actual')\n",
        "plt.xlabel('Predicted')\n",
        "\n",
        "# Confusion Matrix - Best\n",
        "ax3 = plt.subplot(2, 3, 3)\n",
        "cm_best = confusion_matrix(y_test, best_pred)\n",
        "sns.heatmap(cm_best, annot=True, fmt='d', cmap='Greens', cbar=False)\n",
        "plt.title('CM - Optimized DT')\n",
        "plt.ylabel('Actual')\n",
        "plt.xlabel('Predicted')"
      ],
      "metadata": {
        "colab": {
          "base_uri": "https://localhost:8080/",
          "height": 287
        },
        "id": "rkof0fLuOngQ",
        "outputId": "c5dc558b-d2e3-43f4-ce95-76626f79ceeb"
      },
      "execution_count": 46,
      "outputs": [
        {
          "output_type": "execute_result",
          "data": {
            "text/plain": [
              "Text(0.5, 225.12222222222223, 'Predicted')"
            ]
          },
          "metadata": {},
          "execution_count": 46
        },
        {
          "output_type": "display_data",
          "data": {
            "text/plain": [
              "<Figure size 640x480 with 2 Axes>"
            ],
            "image/png": "[encoded data removed]"
          },
          "metadata": {}
        }
      ]
    },
    {
      "cell_type": "code",
      "source": [
        "# Feature Importance - LR\n",
        "ax4 = plt.subplot(2, 3, 4)\n",
        "top10_lr = feat_imp_lr.head(10)\n",
        "plt.barh(range(len(top10_lr)), top10_lr['Coefficient'].abs(), color='steelblue')\n",
        "plt.yticks(range(len(top10_lr)), top10_lr['Feature'])\n",
        "plt.xlabel('Coefficient')\n",
        "plt.title('Top 10 Features - LR')\n",
        "plt.grid(True, alpha=0.3, axis='x')\n",
        "\n",
        "# Feature Importance - DT\n",
        "ax5 = plt.subplot(2, 3, 5)\n",
        "top10_dt = feat_imp_dt.head(10)\n",
        "plt.barh(range(len(top10_dt)), top10_dt['Importance'], color='coral')\n",
        "plt.yticks(range(len(top10_dt)), top10_dt['Feature'])\n",
        "plt.xlabel('Importance')\n",
        "plt.title('Top 10 Features - DT')\n",
        "plt.grid(True, alpha=0.3, axis='x')"
      ],
      "metadata": {
        "colab": {
          "base_uri": "https://localhost:8080/",
          "height": 270
        },
        "id": "2bOMi9UlOtja",
        "outputId": "621bbc3f-8414-488f-d0f8-60b8fe744324"
      },
      "execution_count": 47,
      "outputs": [
        {
          "output_type": "display_data",
          "data": {
            "text/plain": [
              "<Figure size 640x480 with 2 Axes>"
            ],
            "image/png": "[encoded data removed]"
          },
          "metadata": {}
        }
      ]
    },
    {
      "cell_type": "code",
      "source": [
        "# Accuracy Comparison\n",
        "ax6 = plt.subplot(2, 3, 6)\n",
        "models = ['LR', 'DT', 'Best']\n",
        "accs = results['Test_Acc'].values\n",
        "colors = ['steelblue', 'coral', 'green']\n",
        "bars = plt.bar(models, accs, color=colors, alpha=0.7)\n",
        "plt.ylabel('Accuracy')\n",
        "plt.title('Model Comparison')\n",
        "plt.ylim([0.7, 0.85])\n",
        "for bar, val in zip(bars, accs):\n",
        "    plt.text(bar.get_x() + bar.get_width()/2, val + 0.01,\n",
        "             f'{val:.3f}', ha='center', fontweight='bold')\n",
        "plt.grid(True, alpha=0.3, axis='y')\n",
        "\n",
        "plt.tight_layout()\n",
        "plt.savefig('task3_results.png', dpi=300, bbox_inches='tight')\n",
        "print(\"\\nVisualization saved: task3_results.png\")\n",
        "plt.show()"
      ],
      "metadata": {
        "colab": {
          "base_uri": "https://localhost:8080/",
          "height": 312
        },
        "id": "mhLU27xdO4UL",
        "outputId": "4fcfc73d-5ea9-43ee-8f0a-4d71a39345c0"
      },
      "execution_count": 48,
      "outputs": [
        {
          "output_type": "stream",
          "name": "stdout",
          "text": [
            "\n",
            "Visualization saved: task3_results.png\n"
          ]
        },
        {
          "output_type": "display_data",
          "data": {
            "text/plain": [
              "<Figure size 640x480 with 1 Axes>"
            ],
            "image/png": "[encoded data removed]"
          },
          "metadata": {}
        }
      ]
    },
    {
      "cell_type": "code",
      "source": [
        "print(\"\\n\" + \"=\"*80)\n",
        "print(\"STEP 7: EXAMPLE PREDICTION\")\n",
        "print(\"-\"*80)\n",
        "\n",
        "idx = 5\n",
        "sample = X_test.iloc[idx:idx+1]\n",
        "\n",
        "print(f\"\\nSample passenger:\")\n",
        "print(f\"  Class: {int(sample['pclass'].values[0])}\")\n",
        "print(f\"  Sex: {'Male' if sample['sex'].values[0]==1 else 'Female'}\")\n",
        "print(f\"  Age: {sample['age'].values[0]:.1f}\")\n",
        "print(f\"  Fare: ${sample['fare'].values[0]:.2f}\")\n",
        "\n",
        "actual = \"Survived\" if y_test.iloc[idx] == 1 else \"Not Survived\"\n",
        "print(f\"\\nActual: {actual}\")\n",
        "\n",
        "sample_scaled = scaler.transform(sample)\n",
        "\n",
        "lr_p = lr_model.predict(sample_scaled)[0]\n",
        "lr_prob = lr_model.predict_proba(sample_scaled)[0]\n",
        "print(f\"\\nLR: {'Survived' if lr_p==1 else 'Not Survived'} ({max(lr_prob):.2%})\")\n",
        "\n",
        "dt_p = dt_model.predict(sample)[0]\n",
        "dt_prob = dt_model.predict_proba(sample)[0]\n",
        "print(f\"DT: {'Survived' if dt_p==1 else 'Not Survived'} ({max(dt_prob):.2%})\")\n",
        "\n",
        "best_p = best_model.predict(sample)[0]\n",
        "best_prob = best_model.predict_proba(sample)[0]\n",
        "print(f\"Best: {'Survived' if best_p==1 else 'Not Survived'} ({max(best_prob):.2%})\")\n"
      ],
      "metadata": {
        "colab": {
          "base_uri": "https://localhost:8080/"
        },
        "id": "9CeM7Zd5O-fm",
        "outputId": "40f72778-bdb8-4de3-8fb4-8bb904a16850"
      },
      "execution_count": 49,
      "outputs": [
        {
          "output_type": "stream",
          "name": "stdout",
          "text": [
            "\n",
            "================================================================================\n",
            "STEP 7: EXAMPLE PREDICTION\n",
            "--------------------------------------------------------------------------------\n",
            "\n",
            "Sample passenger:\n",
            "  Class: 3\n",
            "  Sex: Female\n",
            "  Age: 36.0\n",
            "  Fare: $17.40\n",
            "\n",
            "Actual: Survived\n",
            "\n",
            "LR: Survived (51.15%)\n",
            "DT: Not Survived (57.14%)\n",
            "Best: Not Survived (57.14%)\n"
          ]
        }
      ]
    },
    {
      "cell_type": "code",
      "source": [
        "print(\"\\n\" + \"=\"*80)\n",
        "print(\"TASK 3 COMPLETED SUCCESSFULLY\")\n",
        "print(\"=\"*80)\n",
        "\n",
        "print(f\"\"\"\n",
        "SUMMARY:\n",
        "- Data preprocessed: {len(df_clean)} samples, {len(feature_cols)} features\n",
        "- Logistic Regression: {lr_test_acc:.2%} accuracy\n",
        "- Decision Tree: {dt_test_acc:.2%} accuracy\n",
        "- Optimized DT: {best_acc:.2%} accuracy\n",
        "- Best Model: {results.loc[best_idx, 'Model']}\n",
        "\"\"\")\n",
        "\n",
        "print(\"=\"*80)"
      ],
      "metadata": {
        "colab": {
          "base_uri": "https://localhost:8080/"
        },
        "id": "Z1kFqRylPH90",
        "outputId": "cb48f09d-791b-44b2-bd19-5729d716ef63"
      },
      "execution_count": 50,
      "outputs": [
        {
          "output_type": "stream",
          "name": "stdout",
          "text": [
            "\n",
            "================================================================================\n",
            "TASK 3 COMPLETED SUCCESSFULLY\n",
            "================================================================================\n",
            "\n",
            "SUMMARY:\n",
            "- Data preprocessed: 891 samples, 11 features\n",
            "- Logistic Regression: 81.01% accuracy\n",
            "- Decision Tree: 78.77% accuracy\n",
            "- Optimized DT: 78.21% accuracy\n",
            "- Best Model: Logistic Regression\n",
            "\n",
            "================================================================================\n"
          ]
        }
      ]
    }
  ]
}